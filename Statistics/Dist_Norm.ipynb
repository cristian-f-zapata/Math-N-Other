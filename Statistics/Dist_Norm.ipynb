{
 "cells": [
  {
   "cell_type": "markdown",
   "id": "8cdf336e-b48a-475a-8151-e172d3f396e5",
   "metadata": {},
   "source": [
    "# Taller Distribución Normal\n",
    "## Cristian F. Zapata"
   ]
  },
  {
   "cell_type": "markdown",
   "id": "60239b81-44bc-47a3-95a2-081318dddba3",
   "metadata": {},
   "source": [
    "## 1\n",
    "DADA UNA DISTRIBUCIÓN NORMAL ESTANDAR, CALCULE EL ÁREA BAJO LA CURVA QUE ESTÁ:  \n",
    "entre z=-2,16 y z= -0,65"
   ]
  },
  {
   "cell_type": "code",
   "execution_count": 1,
   "id": "aa0325db-6338-4ecd-9d74-9063d8ac75e6",
   "metadata": {
    "tags": []
   },
   "outputs": [
    {
     "name": "stdout",
     "output_type": "stream",
     "text": [
      "Área bajo la curva: 0.24245977602193927\n"
     ]
    }
   ],
   "source": [
    "from scipy.stats import norm\n",
    "\n",
    "# Valores de z para los puntos de interés\n",
    "z1 = -2.16\n",
    "z2 = -0.65\n",
    "\n",
    "# Calcula el área bajo la curva entre z1 y z2\n",
    "area = norm.cdf(z2) - norm.cdf(z1)\n",
    "\n",
    "print(\"Área bajo la curva:\", area)"
   ]
  },
  {
   "cell_type": "markdown",
   "id": "03c9706a-0a1a-41e0-a11b-3e14942e4940",
   "metadata": {},
   "source": [
    "## 2\n",
    "DADA UNA DISTRIBUCIÓN NORMAL ESTANDAR, CALCULE EL ÁREA BAJO LA CURVA QUE ESTÁ:  \n",
    "ea la izquierda de  z=1,43"
   ]
  },
  {
   "cell_type": "code",
   "execution_count": 2,
   "id": "84890f56-8ef5-4730-b27c-0aa32c97246d",
   "metadata": {
    "tags": []
   },
   "outputs": [
    {
     "name": "stdout",
     "output_type": "stream",
     "text": [
      "Área bajo la curva a la izquierda de z: 0.9236414904632608\n"
     ]
    }
   ],
   "source": [
    "# Valor de z para el punto de interés\n",
    "z = 1.43\n",
    "\n",
    "# Calcula el área bajo la curva a la izquierda de z\n",
    "area = norm.cdf(z)\n",
    "\n",
    "print(\"Área bajo la curva a la izquierda de z:\", area)"
   ]
  },
  {
   "cell_type": "markdown",
   "id": "aca38d12-8982-48f8-bd17-28eed2aeb4e4",
   "metadata": {},
   "source": [
    "## 3\n",
    "DADA UNA DISTRIBUCIÓN NORMAL ESTANDAR, CALCULE EL ÁREA BAJO LA CURVA QUE ESTÁ:  \n",
    "ea la derecha de  z=-0,89"
   ]
  },
  {
   "cell_type": "code",
   "execution_count": 3,
   "id": "f479b1fa-222b-4da7-b5d3-53f19272b756",
   "metadata": {
    "tags": []
   },
   "outputs": [
    {
     "name": "stdout",
     "output_type": "stream",
     "text": [
      "Área bajo la curva a la derecha de z: 0.8132670569628273\n"
     ]
    }
   ],
   "source": [
    "# Valor de z para el punto de interés\n",
    "z = -0.89\n",
    "\n",
    "# Calcula el área bajo la curva a la derecha de z\n",
    "area = 1 - norm.cdf(z)\n",
    "\n",
    "print(\"Área bajo la curva a la derecha de z:\", area)"
   ]
  },
  {
   "cell_type": "markdown",
   "id": "82c82163-a9ff-4b7c-8ac3-c89a8f602a54",
   "metadata": {},
   "source": [
    "## 4\n",
    "DADA UNA DISTRIBUCIÓN NORMAL ESTANDAR, CALCULE EL ÁREA BAJO LA CURVA QUE ESTÁ:  \n",
    "entre  z=-0,48 y z=1,74"
   ]
  },
  {
   "cell_type": "code",
   "execution_count": 4,
   "id": "eb1961c2-29d8-4d07-b7db-abd3646d5f9b",
   "metadata": {
    "tags": []
   },
   "outputs": [
    {
     "name": "stdout",
     "output_type": "stream",
     "text": [
      "Área bajo la curva entre z1 y z2: 0.6434567945049701\n"
     ]
    }
   ],
   "source": [
    "# Valores de z para los puntos de interés\n",
    "z1 = -0.48\n",
    "z2 = 1.74\n",
    "\n",
    "# Calcula el área bajo la curva entre z1 y z2\n",
    "area = norm.cdf(z2) - norm.cdf(z1)\n",
    "\n",
    "print(\"Área bajo la curva entre z1 y z2:\", area)"
   ]
  },
  {
   "cell_type": "markdown",
   "id": "996f422f-7c83-4c1f-8d28-a8f03b320095",
   "metadata": {},
   "source": [
    "## 5\n",
    "Calcule el valor de z si el área bajo una curna normal estándar \n",
    "entre 0 y z, con z>0, es 0,4838 "
   ]
  },
  {
   "cell_type": "code",
   "execution_count": 9,
   "id": "d581e0d5-936c-4d49-925a-bdbdfd15e6be",
   "metadata": {
    "tags": []
   },
   "outputs": [
    {
     "name": "stdout",
     "output_type": "stream",
     "text": [
      "Valor de z: 2.139440622044906\n"
     ]
    }
   ],
   "source": [
    "# El area total es la suma de la area para los z negativos mas el area dada para los z positivos\n",
    "area_antes_de_0 = norm.cdf(0)\n",
    "area_deseada= 0.4838 + area_antes_de_0\n",
    "\n",
    "# Calcula el valor de z correspondiente\n",
    "z = norm.ppf(area_deseada)\n",
    "\n",
    "print(\"Valor de z:\", z)"
   ]
  },
  {
   "cell_type": "markdown",
   "id": "f1aef5c3-4890-46e3-a04b-a18acd5b7f25",
   "metadata": {
    "tags": []
   },
   "source": [
    "## 6\n",
    "Calcule el valor de z si el área bajo una curna normal estándar \n",
    "a la izquierda de z es 0,1131"
   ]
  },
  {
   "cell_type": "code",
   "execution_count": 11,
   "id": "4df6d254-1490-4edb-b5bb-c72243d9ac00",
   "metadata": {
    "tags": []
   },
   "outputs": [
    {
     "name": "stdout",
     "output_type": "stream",
     "text": [
      "Valor de z: -1.2102056255598872\n"
     ]
    }
   ],
   "source": [
    "# Área bajo la curva deseada\n",
    "area_deseada = 0.1131\n",
    "\n",
    "# Calcula el valor de z correspondiente\n",
    "z = norm.ppf(area_deseada)\n",
    "\n",
    "print(\"Valor de z:\", z)"
   ]
  },
  {
   "cell_type": "markdown",
   "id": "1eddd00d-411c-4848-be0d-66e7a3eb2036",
   "metadata": {},
   "source": [
    "## 7\n",
    "Calcule el valor de z si el área bajo una curna normal estándar \n",
    "a la derecha de z es 0,3622"
   ]
  },
  {
   "cell_type": "code",
   "execution_count": 12,
   "id": "2854ee4f-73ba-4b58-832b-687e7e6ab7d4",
   "metadata": {
    "tags": []
   },
   "outputs": [
    {
     "name": "stdout",
     "output_type": "stream",
     "text": [
      "Valor de z: -0.3525844459237296\n"
     ]
    }
   ],
   "source": [
    "# Área bajo la curva deseada\n",
    "area_deseada = 0.3622\n",
    "\n",
    "# Calcula el valor de z correspondiente para el área a la izquierda de z\n",
    "z_left = norm.ppf(1 - area_deseada)\n",
    "\n",
    "# El valor de z deseado será negativo, ya que estamos buscando el área a la derecha\n",
    "z = -z_left\n",
    "\n",
    "print(\"Valor de z:\", z)"
   ]
  },
  {
   "cell_type": "markdown",
   "id": "ee17830f-9697-4e7b-aeff-4e190760daea",
   "metadata": {},
   "source": [
    "## 8\n",
    "DADA UNA DISTRIBUCIÓN NORMAL ESTANDAR, CALCULE EL ÁREA BAJO LA CURVA QUE ESTÁ:  \n",
    " a la derecha de z=1,96"
   ]
  },
  {
   "cell_type": "code",
   "execution_count": 15,
   "id": "068cdff9-7ee7-4378-8c7d-c880cb4e379e",
   "metadata": {
    "tags": []
   },
   "outputs": [
    {
     "name": "stdout",
     "output_type": "stream",
     "text": [
      "Área bajo la curva a la derecha de z: 0.024997895148220435\n"
     ]
    }
   ],
   "source": [
    "# Valor de z para el punto de interés\n",
    "z = 1.96\n",
    "\n",
    "# Calcula el área bajo la curva a la derecha de z\n",
    "area = norm.sf(z)\n",
    "\n",
    "print(\"Área bajo la curva a la derecha de z:\", area)"
   ]
  },
  {
   "cell_type": "markdown",
   "id": "8d1d384c-3e53-4978-945f-6d8d848694aa",
   "metadata": {},
   "source": [
    "## 9 \n",
    "La resistencia a la tensión de cierto componente de metal se distribuye normalmente con una media de 10,000 kilogramos por centímetro cuadrado y una desviación estándar de 100 kilogramos por centímetro cuadrado. Las mediciones se redondean a los 50 kilogramos por centímetro cuadrado más cercanos.\n",
    "\n",
    "¿Qué proporción de estos componentes excede a 10150 kilogramos por centímetro cuadrado de resistencia a la tensión?"
   ]
  },
  {
   "cell_type": "code",
   "execution_count": 18,
   "id": "d47bf17d-8a29-4b40-970f-727195534765",
   "metadata": {
    "tags": []
   },
   "outputs": [
    {
     "name": "stdout",
     "output_type": "stream",
     "text": [
      "Proporción de componentes que exceden 10150 kg/cm^2: 0.06680720126885809\n"
     ]
    }
   ],
   "source": [
    "# Parámetros de la distribución normal\n",
    "media = 10000\n",
    "desviacion_estandar = 100\n",
    "\n",
    "# Valor ajustado por continuidad\n",
    "valor_ajustado = 10150 \n",
    "\n",
    "# Calcula la probabilidad de que la resistencia sea mayor al valor ajustado\n",
    "probabilidad_exceder = 1 - norm.cdf(valor_ajustado, loc=media, scale=desviacion_estandar)\n",
    "\n",
    "print(\"Proporción de componentes que exceden 10150 kg/cm^2:\", probabilidad_exceder)\n"
   ]
  },
  {
   "cell_type": "markdown",
   "id": "07483a65-8422-4f83-8792-24b5bbd05950",
   "metadata": {},
   "source": [
    "## 10\n",
    "Calcule el valor de z si el área bajo una curna normal estándar \n",
    "entre -z y z, con z>0, es 0,9500"
   ]
  },
  {
   "cell_type": "code",
   "execution_count": 19,
   "id": "0f2a8f95-b4de-4fa6-8875-813314b46643",
   "metadata": {
    "tags": []
   },
   "outputs": [
    {
     "name": "stdout",
     "output_type": "stream",
     "text": [
      "Valor de z: 1.959963984540054\n"
     ]
    }
   ],
   "source": [
    "# Área bajo la curva deseada\n",
    "area_deseada = 0.9500\n",
    "\n",
    "# Calcula el valor de z correspondiente\n",
    "#el area antes y despues del area dada es: (1 - area_deseada) / 2 debido a la simetria del problema.\n",
    "#el area correspondiente es 1 menos el area antes y despues del area dada\n",
    "z = norm.ppf(1 - (1 - area_deseada) / 2)\n",
    "\n",
    "print(\"Valor de z:\", z)"
   ]
  },
  {
   "cell_type": "markdown",
   "id": "f195b21b-b4a9-49fc-b2db-cd1c234ed085",
   "metadata": {},
   "source": [
    "## 11\n",
    "DADA UNA DISTRIBUCIÓN NORMAL ESTANDAR, CALCULE EL ÁREA BAJO LA CURVA QUE ESTÁ: \n",
    "\n",
    "a la izquierda de z=-1,39"
   ]
  },
  {
   "cell_type": "code",
   "execution_count": 20,
   "id": "97851c4b-9298-4573-9d09-fe7462cd1c1b",
   "metadata": {
    "tags": []
   },
   "outputs": [
    {
     "name": "stdout",
     "output_type": "stream",
     "text": [
      "Área bajo la curva a la izquierda de z: 0.08226443867766892\n"
     ]
    }
   ],
   "source": [
    "# Valor de z para el punto de interés\n",
    "z = -1.39\n",
    "\n",
    "# Calcula el área bajo la curva a la izquierda de z\n",
    "area = norm.cdf(z)\n",
    "\n",
    "print(\"Área bajo la curva a la izquierda de z:\", area)"
   ]
  },
  {
   "cell_type": "markdown",
   "id": "905fd37c-323e-4dad-a492-aeddd65ec5bd",
   "metadata": {},
   "source": [
    "## 12 \n",
    "La resistencia a la tensión de cierto componente de metal se distribuye normalmente con una media de 10,000 kilogramos por centímetro cuadrado y una desviación estándar de 100 kilogramos por centímetro cuadrado. Las mediciones se redondean a los 50 kilogramos por centímetro cuadrado más cercanos.\n",
    "\n",
    "Si las especifi caciones requieren que todos los componentes tengan una resistencia a la tensión de entre 9800 y 10,200 kilogramos por centímetro cuadrado, ¿qué proporción de piezas esperaría que NO se descartara?"
   ]
  },
  {
   "cell_type": "code",
   "execution_count": 24,
   "id": "c7e5b97c-d979-4057-b20a-576ba1dcf128",
   "metadata": {
    "tags": []
   },
   "outputs": [
    {
     "name": "stdout",
     "output_type": "stream",
     "text": [
      "Proporción de piezas que NO se descartarían: 0.9544997361036416\n"
     ]
    }
   ],
   "source": [
    "# Parámetros de la distribución normal\n",
    "media = 10000\n",
    "desviacion_estandar = 100\n",
    "\n",
    "# Límites ajustados del rango\n",
    "\n",
    "limite_inferior = 9800 \n",
    "limite_superior = 10200\n",
    "\n",
    "# Calcula el área bajo la curva dentro del rango especificado\n",
    "proporcion_no_descartada = norm.cdf(limite_superior, loc=media, scale=desviacion_estandar) - norm.cdf(limite_inferior, loc=media, scale=desviacion_estandar)\n",
    "\n",
    "print(\"Proporción de piezas que NO se descartarían:\", proporcion_no_descartada)\n"
   ]
  },
  {
   "cell_type": "markdown",
   "id": "3f3a1095-7609-406e-ae75-af8e1b428dc4",
   "metadata": {},
   "source": []
  }
 ],
 "metadata": {
  "kernelspec": {
   "display_name": "Python 3 (ipykernel)",
   "language": "python",
   "name": "python3"
  },
  "language_info": {
   "codemirror_mode": {
    "name": "ipython",
    "version": 3
   },
   "file_extension": ".py",
   "mimetype": "text/x-python",
   "name": "python",
   "nbconvert_exporter": "python",
   "pygments_lexer": "ipython3",
   "version": "3.11.4"
  }
 },
 "nbformat": 4,
 "nbformat_minor": 5
}
