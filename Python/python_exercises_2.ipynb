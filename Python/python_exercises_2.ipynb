{
 "cells": [
  {
   "cell_type": "markdown",
   "metadata": {},
   "source": [
    "Created on 2021\n",
    "\n",
    "Cristian F. Zapata"
   ]
  },
  {
   "cell_type": "code",
   "execution_count": 2,
   "metadata": {},
   "outputs": [],
   "source": [
    "import math\n",
    "import random\n",
    "import numpy as np\n",
    "import scipy.linalg as LA\n",
    "import matplotlib.pyplot as plt\n",
    "from collections import defaultdict\n",
    "from mpl_toolkits.mplot3d.axes3d import Axes3D"
   ]
  },
  {
   "cell_type": "markdown",
   "metadata": {},
   "source": [
    "## Matrix calculator"
   ]
  },
  {
   "cell_type": "code",
   "execution_count": null,
   "metadata": {},
   "outputs": [
    {
     "name": "stdout",
     "output_type": "stream",
     "text": [
      "***********************************\n",
      "******MATRIX CALCULATOR*************\n",
      "***********************************\n",
      "Enter Matrix A:\n",
      "***********************************\n",
      "***********************************\n",
      "\n",
      " Matrix A\n",
      "[[1. 2.]\n",
      " [4. 5.]] \n",
      "\n",
      "***********************************\n",
      "***********************************\n",
      "Eigenvalues and eigenvectors\n",
      "***********************************\n",
      "Eigenvalues:\n",
      "  [-0.46410162+0.j  6.46410162+0.j]\n",
      "Eigenvectors:\n",
      "  [[-0.80689822 -0.34372377]\n",
      " [ 0.59069049 -0.9390708 ]]\n",
      "***********************************\n"
     ]
    }
   ],
   "source": [
    "def create_matrix(rows, columns):\n",
    "    matrix = []\n",
    "    for i in range(rows):\n",
    "        row = []\n",
    "        for j in range(columns):\n",
    "            value = float(input(f\"Enter the element at position ({i+1},{j+1}): \"))\n",
    "            row.append(value)\n",
    "        matrix.append(row)\n",
    "    return np.array(matrix)\n",
    "\n",
    "def matrix_calculator():\n",
    "    print(\"***********************************\")\n",
    "    print(\"******MATRIX CALCULATOR*************\")\n",
    "    print(\"***********************************\")\n",
    "    print(\"Enter Matrix A:\")\n",
    "    \n",
    "    rows_A = eval(input(\"Specify the number of rows for Matrix A: \"))\n",
    "    columns_A = eval(input(\"Specify the number of columns for Matrix A: \"))\n",
    "    \n",
    "    print(\"***********************************\")\n",
    "    matrix_A = create_matrix(rows_A, columns_A)\n",
    "    \n",
    "    print(\"***********************************\")\n",
    "    print(\"\\n Matrix A\")\n",
    "    print(matrix_A, \"\\n\")\n",
    "    print(\"***********************************\")  \n",
    "    \n",
    "    operation = input(\"OPERATIONS MENU\\n (+) Addition of A and B\\n (-) Subtraction of A and B\\n (*) Multiplication between A and B\\n (vv) Eigenvalues and eigenvectors \\n (x) AX=B  \")\n",
    "    \n",
    "    if operation == \"+\":\n",
    "        print(\"***********************************\")\n",
    "        print(\"Enter Matrix B\")\n",
    "        print(\"***********************************\")\n",
    "        rows_B = eval(input(\"Specify the number of rows for Matrix B: \"))\n",
    "        columns_B = eval(input(\"Specify the number of columns for Matrix B: \"))\n",
    "        \n",
    "        print(\"***********************************\")\n",
    "        matrix_B = create_matrix(rows_B, columns_B)\n",
    "        \n",
    "        print(\"\\n Matrix B\")\n",
    "        print(matrix_B, \"\\n\")\n",
    "        print(\"***********************************\")\n",
    "        print(\"Result:\\n\",  np.array(matrix_A) + np.array(matrix_B))\n",
    "        print(\"***********************************\")\n",
    "        \n",
    "    elif operation == \"-\":\n",
    "        print(\"***********************************\")\n",
    "        print(\"Enter Matrix B\")\n",
    "        print(\"***********************************\")\n",
    "        rows_B = eval(input(\"Specify the number of rows for Matrix B: \"))\n",
    "        columns_B = eval(input(\"Specify the number of columns for Matrix B: \"))\n",
    "        \n",
    "        print(\"***********************************\")\n",
    "        matrix_B = create_matrix(rows_B, columns_B)\n",
    "        \n",
    "        print(\"\\n Matrix B\")\n",
    "        print(matrix_B, \"\\n\")\n",
    "        print(\"***********************************\")\n",
    "        print(\"Result:\\n\",  np.array(matrix_A) - np.array(matrix_B))\n",
    "        print(\"***********************************\")\n",
    "        \n",
    "    elif operation == \"*\":\n",
    "        print(\"***********************************\")\n",
    "        print(\"Enter Matrix B\")\n",
    "        print(\"***********************************\")\n",
    "        rows_B = eval(input(\"Specify the number of rows for Matrix B: \"))\n",
    "        columns_B = eval(input(\"Specify the number of columns for Matrix B: \"))\n",
    "        \n",
    "        print(\"***********************************\")\n",
    "        matrix_B = create_matrix(rows_B, columns_B)\n",
    "        \n",
    "        print(\"\\n Matrix B\")\n",
    "        print(matrix_B, \"\\n\")\n",
    "        print(\"***********************************\")\n",
    "        print(\"Result:\\n\",  np.dot(matrix_A, matrix_B)) \n",
    "        print(\"***********************************\")\n",
    "        \n",
    "    elif operation == \"vv\":\n",
    "        print(\"***********************************\")\n",
    "        print(\"Eigenvalues and eigenvectors\")\n",
    "        print(\"***********************************\")\n",
    "        e_val, e_vec = LA.eig(matrix_A)\n",
    "        print(\"Eigenvalues:\\n \", e_val)\n",
    "        print(\"Eigenvectors:\\n \", e_vec)\n",
    "        print(\"***********************************\")\n",
    "        \n",
    "    elif operation == \"x\":\n",
    "        print(\"***********************************\")\n",
    "        print(\"System in the form AX=B\")\n",
    "        print(\"***********************************\")\n",
    "        print(\"Enter Matrix B\")\n",
    "        rows_B = eval(input(\"Specify the number of rows for Matrix B: \"))\n",
    "        columns_B = eval(input(\"Specify the number of columns for Matrix B: \"))\n",
    "        \n",
    "        print(\"***********************************\")\n",
    "        matrix_B = create_matrix(rows_B, columns_B)\n",
    "        \n",
    "        print(\"\\n Matrix B\")\n",
    "        print(matrix_B, \"\\n\")\n",
    "        print(\"***********************************\")\n",
    "        result_X = np.linalg.inv(matrix_A).dot(matrix_B)\n",
    "        print(\"Result of X:\\n\", result_X)\n",
    "        print(\"***********************************\")\n",
    "\n",
    "if __name__ == \"__main__\":\n",
    "    matrix_calculator()\n"
   ]
  },
  {
   "cell_type": "markdown",
   "metadata": {},
   "source": [
    "## 22\n",
    "creates a program that calculates by approximations the roots of a polynomial of degree n."
   ]
  },
  {
   "cell_type": "code",
   "execution_count": null,
   "metadata": {},
   "outputs": [
    {
     "name": "stdout",
     "output_type": "stream",
     "text": [
      "For polynomials of the form a + bx + cx^2 + dx^3 + ... + (anx^n)\n",
      "Enter the coefficient 1: \n",
      "Enter the coefficient 2: \n",
      "Enter the coefficient 3: \n",
      "Enter the coefficient 4: \n",
      "One root is: -504.00000000000045\n"
     ]
    }
   ],
   "source": [
    "def get_coefficients():\n",
    "    print(\"For polynomials of the form a + bx + cx^2 + dx^3 + ... + (anx^n)\")\n",
    "    degree = eval(input(\"Enter the degree of the polynomial: \")) + 1\n",
    "    coefficients = []\n",
    "\n",
    "    for i in range(degree):\n",
    "        print(f\"Enter the coefficient {i + 1}: \")\n",
    "        value = eval(input(\".\"))\n",
    "        coefficients.append(value)\n",
    "\n",
    "    return coefficients\n",
    "\n",
    "def calculate_derivative(coefficients):\n",
    "    return [i * coefficients[i] for i in range(1, len(coefficients))]\n",
    "\n",
    "def evaluate_polynomial(coefficients, x):\n",
    "    return sum([(x ** i) * coefficients[i] for i in range(len(coefficients))])\n",
    "\n",
    "def find_root(coefficients, initial_value, iterations):\n",
    "    x1 = initial_value\n",
    "\n",
    "    for _ in range(iterations):\n",
    "        fx = [evaluate_polynomial(coefficients, x1) for x1 in range(len(coefficients))]\n",
    "        dfx = calculate_derivative(coefficients)\n",
    "        \n",
    "        sumaf = sum(fx)\n",
    "        sumadf = sum(dfx)\n",
    "        \n",
    "        root = x1 - (sumaf / sumadf)\n",
    "        x1 = root\n",
    "        \n",
    "        if sumaf == 0:\n",
    "            break\n",
    "\n",
    "    return root\n",
    "\n",
    "if __name__ == \"__main__\":\n",
    "    coefficients = get_coefficients()\n",
    "    initial_value = eval(input(\"Enter the initial value of x: \"))\n",
    "    iterations = eval(input(\"How many times do you want to repeat the procedure?: \"))\n",
    "\n",
    "    root = find_root(coefficients, initial_value, iterations)\n",
    "\n",
    "    print(\"One root is:\", root)\n"
   ]
  },
  {
   "cell_type": "markdown",
   "metadata": {},
   "source": [
    "## 23\n",
    " create a program that makes a list of 1000 tuples produced randomly, the program finds which tuples are above, and which are below and above the function f(x) = x ** 2."
   ]
  },
  {
   "cell_type": "code",
   "execution_count": null,
   "metadata": {},
   "outputs": [
    {
     "name": "stdout",
     "output_type": "stream",
     "text": [
      "There are 808 points below the function, 165 points above the function, and 27 points on the function.\n"
     ]
    }
   ],
   "source": [
    "def generate_data():\n",
    "    return [(r.randint(-10, 10), random.randint(0, 10)) for _ in range(1000)]\n",
    "\n",
    "def count_points(data):\n",
    "    below_function = 0\n",
    "    above_function = 0\n",
    "    on_function = 0\n",
    "\n",
    "    for x, y in data:\n",
    "        x_squared = x ** 2\n",
    "\n",
    "        if y > x_squared:\n",
    "            above_function += 1\n",
    "        elif y < x_squared:\n",
    "            below_function += 1\n",
    "        else:\n",
    "            on_function += 1\n",
    "\n",
    "    return below_function, above_function, on_function\n",
    "\n",
    "if __name__ == \"__main__\":\n",
    "    data_points = generate_data()\n",
    "\n",
    "    below, above, on = count_points(data_points)\n",
    "\n",
    "    print(f\"There are {below} points below the function, {above} points above the function, and {on} points on the function.\")\n"
   ]
  },
  {
   "cell_type": "markdown",
   "metadata": {},
   "source": [
    "## 24\n",
    "convert from kilograms to pounds, make sure the information is correct"
   ]
  },
  {
   "cell_type": "code",
   "execution_count": 42,
   "metadata": {},
   "outputs": [
    {
     "name": "stdout",
     "output_type": "stream",
     "text": [
      "1 kilograms is equivalent to 0.5 pounds\n"
     ]
    }
   ],
   "source": [
    "weight = eval(input(\"Enter a weight in kilograms: \"))\n",
    "\n",
    "if weight < 0:\n",
    "    print(\"The value has no physical meaning.\")\n",
    "else:\n",
    "    pounds = weight / 2\n",
    "    print(\"{0} kilograms is equivalent to {1} pounds\".format(weight, pounds))\n"
   ]
  },
  {
   "cell_type": "markdown",
   "metadata": {},
   "source": [
    "## 25\n",
    "The Student can enter the amount of grades she wants, ending with a negative, the program indicates the lowest, highest and average grade."
   ]
  },
  {
   "cell_type": "code",
   "execution_count": 6,
   "metadata": {},
   "outputs": [
    {
     "name": "stdout",
     "output_type": "stream",
     "text": [
      "The highest grade is 5, the lowest grade is 4, and the average grade is 4.6\n"
     ]
    }
   ],
   "source": [
    "num_notes = eval(input(\"Enter the number of notes to register: \"))\n",
    "grades = []\n",
    "\n",
    "for i in range(num_notes):\n",
    "    grade = eval(input(\"Enter grade {0}: \".format(i + 1)))\n",
    "\n",
    "    while grade < 0 or grade > 5:\n",
    "        print(\"Invalid grade. Please enter a grade between 0 and 5.\")\n",
    "        grade = eval(input(\"Enter grade {0}: \".format(i + 1)))\n",
    "\n",
    "    grades.append(grade)\n",
    "\n",
    "minimum_grade = min(grades)\n",
    "maximum_grade = max(grades)\n",
    "average_grade = sum(grades) / len(grades)\n",
    "\n",
    "print(\"The highest grade is {0}, the lowest grade is {1}, and the average grade is {2}\".format(maximum_grade, minimum_grade, average_grade))\n"
   ]
  },
  {
   "cell_type": "markdown",
   "metadata": {},
   "source": [
    "## 26\n",
    "enter list of integers and, print total number of elements, print the last element of the list, print the list in reverse order, print if the list contains a number 5, print the number 5 of the list, delete the first and last list item and sort the remaining items and print the result"
   ]
  },
  {
   "cell_type": "code",
   "execution_count": 11,
   "metadata": {},
   "outputs": [
    {
     "name": "stdout",
     "output_type": "stream",
     "text": [
      "The list is: [0, 1, 3, 4, 65]\n",
      "Last element: 65\n",
      "Size of the list: 5\n",
      "List after removing the first and last element: [1, 3, 4]\n"
     ]
    }
   ],
   "source": [
    "my_list = []\n",
    "\n",
    "while True:\n",
    "    try:\n",
    "        data = int(input(\"Enter data: \"))\n",
    "        my_list.append(data)\n",
    "        question = input(\"Do you want to continue? (yes/no): \")\n",
    "        \n",
    "        if question.lower() == \"no\":\n",
    "            break\n",
    "    except ValueError:\n",
    "        print(\"The entered value is not an integer.\")\n",
    "\n",
    "if len(my_list) >= 5:\n",
    "    fifth_element = my_list[4]  # Accessing the fifth element\n",
    "    size = len(my_list)\n",
    "    last_element = my_list[-1]\n",
    "    \n",
    "    print(\"The list is:\", my_list)\n",
    "    print(\"Last element:\", last_element)\n",
    "    print(\"Size of the list:\", size)\n",
    "    \n",
    "    if 5 in my_list:\n",
    "        print(\"The list contains at least one number 5.\")\n",
    "    \n",
    "    del my_list[0]\n",
    "    del my_list[-1]\n",
    "    \n",
    "    print(\"List after removing the first and last element:\", my_list)\n",
    "else:\n",
    "    print(\"The list does not have enough elements to perform all operations.\")\n"
   ]
  },
  {
   "cell_type": "markdown",
   "metadata": {},
   "source": [
    "## 27\n",
    "Write a program that prompts the user for a time between 1 and 12, # asks him to enter am or pm, and asks him how many hours in the future he wants to go. Print what the time will be so many hours into the future, printing am or pm as appropriate. Here is an example. (Numbers much larger than 24 can be entered)"
   ]
  },
  {
   "cell_type": "code",
   "execution_count": 13,
   "metadata": {},
   "outputs": [
    {
     "name": "stdout",
     "output_type": "stream",
     "text": [
      "The time in the future will be 2:06 am\n"
     ]
    }
   ],
   "source": [
    "hour_current = int(input(\"Enter the current hour (1-12): \"))\n",
    "minutes = int(input(\"Enter the current minutes: \"))\n",
    "period = input(\"Enter am or pm: \").lower()\n",
    "hours_ahead = int(input(\"Enter the number of hours to advance: \"))\n",
    "minutes_ahead = int(input(\"Enter additional minutes to advance: \"))\n",
    "\n",
    "total_minutes = minutes + minutes_ahead\n",
    "total_hours = hour_current + hours_ahead\n",
    "\n",
    "total_hours += total_minutes // 60\n",
    "total_minutes %= 60\n",
    "\n",
    "periods_passed = total_hours // 12\n",
    "total_hours %= 12\n",
    "\n",
    "if periods_passed % 2 == 1:\n",
    "    period = \"pm\" if period == \"am\" else \"am\"\n",
    "\n",
    "print(f\"The time in the future will be {total_hours}:{total_minutes:02d} {period}\")\n"
   ]
  },
  {
   "cell_type": "markdown",
   "metadata": {},
   "source": [
    "## 28\n",
    "The list ['a', 'bb', 'ccc', 'dddd',. . . ] which ends with 26 copies of the letter z."
   ]
  },
  {
   "cell_type": "code",
   "execution_count": 16,
   "metadata": {},
   "outputs": [
    {
     "data": {
      "text/plain": [
       "['a',\n",
       " 'bb',\n",
       " 'ccc',\n",
       " 'dddd',\n",
       " 'eeeee',\n",
       " 'ffffff',\n",
       " 'ggggggg',\n",
       " 'hhhhhhhh',\n",
       " 'iiiiiiiii',\n",
       " 'jjjjjjjjjj',\n",
       " 'kkkkkkkkkkk',\n",
       " 'llllllllllll',\n",
       " 'mmmmmmmmmmmmm',\n",
       " 'nnnnnnnnnnnnnn',\n",
       " 'ñññññññññññññññ',\n",
       " 'oooooooooooooooo',\n",
       " 'ppppppppppppppppp',\n",
       " 'qqqqqqqqqqqqqqqqqq',\n",
       " 'rrrrrrrrrrrrrrrrrrr',\n",
       " 'ssssssssssssssssssss',\n",
       " 'ttttttttttttttttttttt',\n",
       " 'vvvvvvvvvvvvvvvvvvvvvv',\n",
       " 'wwwwwwwwwwwwwwwwwwwwwww',\n",
       " 'xxxxxxxxxxxxxxxxxxxxxxxx',\n",
       " 'yyyyyyyyyyyyyyyyyyyyyyyyy',\n",
       " 'zzzzzzzzzzzzzzzzzzzzzzzzzz']"
      ]
     },
     "execution_count": 16,
     "metadata": {},
     "output_type": "execute_result"
    }
   ],
   "source": [
    "\n",
    "    \n",
    "a=[\"a\",\"b\",\"c\",\"d\",\"e\",\"f\",\"g\",\"h\",\"i\",\"j\",\"k\",\"l\",\"m\",\"n\",\"ñ\",\"o\",\"p\",\\\n",
    "   \"q\",\"r\",\"s\",\"t\",\"v\",\"w\",\"x\",\"y\",\"z\"]\n",
    "b=[]\n",
    "for i in range(len(a)):\n",
    "    b.append((i+1)*a[i])\n",
    "b"
   ]
  },
  {
   "cell_type": "markdown",
   "metadata": {},
   "source": [
    "## 29\n",
    "Write a program that takes two lists L and M of the same size and adds their elements to form a new list N whose elements are sums of the corresponding elements in L and M. For example, if L = [3,1, 4] and M = [ 1,5,9], then N should be equal to [4,6,13]."
   ]
  },
  {
   "cell_type": "code",
   "execution_count": 22,
   "metadata": {},
   "outputs": [
    {
     "name": "stdout",
     "output_type": "stream",
     "text": [
      "a=  [95, 52, 81, 15, 18, 59, 11, 5, 15, 72]  , b=  [26, 91, 94, 27, 3, 33, 28, 78, 80, 66]\n",
      "c=  [121, 143, 175, 42, 21, 92, 39, 83, 95, 138]\n"
     ]
    }
   ],
   "source": [
    "    a=[]\n",
    "    b=[]\n",
    "    for i in range(10):\n",
    "        a.append(random.randint(0,100))\n",
    "        b.append(random.randint(0,100))\n",
    "    print(\"a= \", a , \" , b= \", b)\n",
    "    c=[]\n",
    "    for i in range(len(a)):\n",
    "        c.append(a[i]+b[i])\n",
    "    print(\"c= \", c)"
   ]
  },
  {
   "cell_type": "markdown",
   "metadata": {},
   "source": [
    "## 30\n",
    "When you play games where you have to roll two dice, it's good to know the probabilities of each roll. For example, the odds of rolling a 12 are about 3% and the odds of rolling a 7 are about 17%. You can calculate them mathematically, but if you don't know the math, you can write a program to do it. To do this, your program must simulate the roll of two dice about 10,000 times and calculate and print the percentage of rolls that turn out to be 2,3,4,...,12"
   ]
  },
  {
   "cell_type": "code",
   "execution_count": 23,
   "metadata": {},
   "outputs": [
    {
     "name": "stdout",
     "output_type": "stream",
     "text": [
      "If two dice are rolled:\n",
      "The probability of getting 2 is 2.83%\n",
      "The probability of getting 3 is 5.24%\n",
      "The probability of getting 4 is 8.18%\n",
      "The probability of getting 5 is 11.32%\n",
      "The probability of getting 6 is 14.52%\n",
      "The probability of getting 7 is 16.73%\n",
      "The probability of getting 8 is 13.72%\n",
      "The probability of getting 9 is 10.88%\n",
      "The probability of getting 10 is 8.42%\n",
      "The probability of getting 11 is 5.63%\n",
      "The probability of getting 12 is 2.53%\n"
     ]
    }
   ],
   "source": [
    "# Initialize defaultdict to count occurrences of each sum\n",
    "sum_counts = defaultdict(int)\n",
    "\n",
    "# Simulate rolling two dice 10,000 times\n",
    "for _ in range(10000):\n",
    "    die1 = random.randint(1, 6)\n",
    "    die2 = random.randint(1, 6)\n",
    "    total_sum = die1 + die2\n",
    "    sum_counts[total_sum] += 1\n",
    "\n",
    "# Print the probabilities\n",
    "print(\"If two dice are rolled:\")\n",
    "for i in range(2, 13):\n",
    "    probability = (sum_counts[i] / 10000) * 100\n",
    "    print(\"The probability of getting {0} is {1:.2f}%\".format(i, probability))\n"
   ]
  },
  {
   "cell_type": "markdown",
   "metadata": {},
   "source": [
    "## 31\n",
    "  Using a for loop, create the list below, consisting of ones separated by increasingly more zeros. The last two in the list must be separated by ten zeros[1,1,0,1,0,0,1,0,0,0,1,0,0,0,0,1,...]"
   ]
  },
  {
   "cell_type": "code",
   "execution_count": 26,
   "metadata": {},
   "outputs": [
    {
     "name": "stdout",
     "output_type": "stream",
     "text": [
      "[1, 1, 0, 1, 0, 0, 1, 0, 0, 0, 1, 0, 0, 0, 0, 1, 0, 0, 0, 0, 0, 1, 0, 0, 0, 0, 0, 0, 1, 0, 0, 0, 0, 0, 0, 0, 1, 0, 0, 0, 0, 0, 0, 0, 0, 1, 0, 0, 0, 0, 0, 0, 0, 0, 0, 1, 0, 0, 0, 0, 0, 0, 0, 0, 0, 0]\n"
     ]
    }
   ],
   "source": [
    "a = []\n",
    "n = -1\n",
    "\n",
    "for _ in range(11):\n",
    "    a.append(1)\n",
    "    n += 1\n",
    "    for _ in range(n):\n",
    "        a.append(0)\n",
    "a"
   ]
  }
 ],
 "metadata": {
  "kernelspec": {
   "display_name": "Python 3 (ipykernel)",
   "language": "python",
   "name": "python3"
  },
  "language_info": {
   "codemirror_mode": {
    "name": "ipython",
    "version": 3
   },
   "file_extension": ".py",
   "mimetype": "text/x-python",
   "name": "python",
   "nbconvert_exporter": "python",
   "pygments_lexer": "ipython3",
   "version": "3.11.3"
  }
 },
 "nbformat": 4,
 "nbformat_minor": 5
}
