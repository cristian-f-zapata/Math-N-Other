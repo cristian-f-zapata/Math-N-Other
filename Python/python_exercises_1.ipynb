{
 "cells": [
  {
   "cell_type": "markdown",
   "metadata": {},
   "source": [
    "Created on 2021\n",
    "\n",
    "Cristian F. Zapata"
   ]
  },
  {
   "cell_type": "code",
   "execution_count": 19,
   "metadata": {},
   "outputs": [],
   "source": [
    "import numpy as np\n",
    "import scipy.linalg as LA\n",
    "import math\n",
    "import matplotlib.pyplot as plt\n",
    "from mpl_toolkits.mplot3d.axes3d import Axes3D\n",
    "import random\n",
    "\n",
    "# Functions:\n",
    "\n",
    "\n",
    "def gcd(a, b):\n",
    "    while a % b != 0:\n",
    "        a, b = b, a % b\n",
    "    return b\n",
    "\n",
    "\n",
    "def Sine_degrees_to_radians(degrees):\n",
    "    return math.sin(math.radians(degrees))\n",
    "\n",
    "\n",
    "def relationship_chain(a, b, c):\n",
    "    print(\"{0} loves {1}, but not {2}, and {1} loves {2}, but not {0}\".format(a, b, c))\n",
    "\n",
    "\n",
    "def create_matrix(rows, columns):\n",
    "    print(\"\")\n",
    "    elements_rows = []\n",
    "    for row in range(rows):\n",
    "        elements_columns = []\n",
    "        row += 1\n",
    "        for column in range(columns):\n",
    "            column += 1\n",
    "            value = input('Enter the element at position (%d,%d): ' % (row, column))\n",
    "            elements_columns.append(value)\n",
    "        elements_rows.append(elements_columns)\n",
    "        matrix = np.array(elements_rows, dtype=float)\n",
    "    return matrix\n",
    "\n",
    "def get_product_info(product_name):\n",
    "    lower_limit = eval(input(f\"Enter the lower limit for {product_name}: \"))\n",
    "    upper_limit = eval(input(f\"Enter the upper limit for {product_name}: \"))\n",
    "    price = random.randint(lower_limit, upper_limit)\n",
    "    return price\n",
    "\n",
    "def calculate_sine_power(angle, exponent):\n",
    "    result = (math.sin(angle)) ** exponent\n",
    "    return result\n",
    "\n"
   ]
  },
  {
   "cell_type": "markdown",
   "metadata": {},
   "source": [
    "## 1\n",
    "\n",
    "Create a program that calculates the GCF, to do this use Euclid's algorithm\n",
    " \n",
    "•First calculate the remainder of dividing the largest number by the smallest number\n",
    "\n",
    "•Then, replace the larger number with the smaller number and the smaller number with the remainder.\n",
    "\n",
    "•Repeat this process until the smallest number is 0.\n",
    " \n",
    "The GCD is the last residue different from\n",
    "        "
   ]
  },
  {
   "cell_type": "code",
   "execution_count": 4,
   "metadata": {},
   "outputs": [
    {
     "data": {
      "text/plain": [
       "1"
      ]
     },
     "execution_count": 4,
     "metadata": {},
     "output_type": "execute_result"
    }
   ],
   "source": [
    "gcd(8,3)"
   ]
  },
  {
   "cell_type": "markdown",
   "metadata": {},
   "source": [
    "## 2\n",
    "  Write a program that requests the name of three products and the price range of each one and prints in a format string a text describing the products in detail, with their prices and the ranges entered. You must use a formatted string, generate prices randomly, and use them in the text more than once."
   ]
  },
  {
   "cell_type": "code",
   "execution_count": 7,
   "metadata": {},
   "outputs": [
    {
     "name": "stdout",
     "output_type": "stream",
     "text": [
      "The price of apple is 2 pesos, the price of pineapple is 4 pesos, and finally, watermelon costs 6 pesos.\n"
     ]
    }
   ],
   "source": [
    "if __name__ == \"__main__\":\n",
    "    product1 = input(\"Enter the name of product one: \")\n",
    "    price1 = get_product_info(product1)\n",
    "\n",
    "    product2 = input(\"Enter the name of product two: \")\n",
    "    price2 = get_product_info(product2)\n",
    "\n",
    "    product3 = input(\"Enter the name of product three: \")\n",
    "    price3 = get_product_info(product3)\n",
    "\n",
    "    print(f\"The price of {product1} is {price1} pesos, the price of {product2} is {price2} pesos, and finally, {product3} costs {price3} pesos.\")\n",
    "\n"
   ]
  },
  {
   "cell_type": "markdown",
   "metadata": {},
   "source": [
    "## 3\n",
    " Write a program that calculates the sinnθ for a user-entered angle and a random integer and prints the answer with different formatting options"
   ]
  },
  {
   "cell_type": "code",
   "execution_count": 9,
   "metadata": {},
   "outputs": [
    {
     "name": "stdout",
     "output_type": "stream",
     "text": [
      "For the angle 1.58 and the exponent 6, the sine function has a value of 0.9997459058982071.\n"
     ]
    }
   ],
   "source": [
    "if __name__ == \"__main__\":\n",
    "    n = random.randint(0, 10)\n",
    "    angle = eval(input(\"Enter the angle for the sine function: \"))\n",
    "    \n",
    "    result = calculate_sine_power(angle, n)\n",
    "\n",
    "    print(f\"For the angle {angle} and the exponent {n}, the sine function has a value of {result}.\")\n"
   ]
  },
  {
   "cell_type": "markdown",
   "metadata": {},
   "source": [
    "## 4\n",
    "Write a program in which the user enters two characters (or words) and they are used as separators and as the end of line in print commands"
   ]
  },
  {
   "cell_type": "code",
   "execution_count": 10,
   "metadata": {},
   "outputs": [
    {
     "name": "stdout",
     "output_type": "stream",
     "text": [
      "This//////is//////sample//////text//////"
     ]
    }
   ],
   "source": [
    "separator = input(\"Enter separator: \")\n",
    "print(\"This\", \"is\", \"sample\", \"text\", sep=separator, end=separator)"
   ]
  },
  {
   "cell_type": "markdown",
   "metadata": {},
   "source": [
    "## 5\n",
    "Ask the user the price of the food and the percentage of tip they want to leave. Then print both the tip amount and the total bill with the tip included."
   ]
  },
  {
   "cell_type": "code",
   "execution_count": 11,
   "metadata": {},
   "outputs": [
    {
     "name": "stdout",
     "output_type": "stream",
     "text": [
      "Meal price: $6.00\n",
      "Tip amount: $0.01\n",
      "Total amount to pay: $6.01\n"
     ]
    }
   ],
   "source": [
    "meal_price = float(input(\"Enter the meal price: \"))\n",
    "tip_percentage = float(input(\"What percentage tip would you like to leave?: \"))\n",
    "\n",
    "tip_amount = (meal_price / 100) * tip_percentage\n",
    "total_amount = meal_price + tip_amount\n",
    "\n",
    "print(\"Meal price: ${:.2f}\".format(meal_price))\n",
    "print(\"Tip amount: ${:.2f}\".format(tip_amount))\n",
    "print(\"Total amount to pay: ${:.2f}\".format(total_amount))\n"
   ]
  },
  {
   "cell_type": "markdown",
   "metadata": {},
   "source": [
    "\n",
    "## 6\n",
    "\n",
    "Write a program that calculates ( 512−528 ) / ( 48∗48 + 5π ) with the number of decimal places that the user wants"
   ]
  },
  {
   "cell_type": "code",
   "execution_count": 13,
   "metadata": {},
   "outputs": [
    {
     "name": "stdout",
     "output_type": "stream",
     "text": [
      "With 5 decimal places, the result is -0.00302\n"
     ]
    }
   ],
   "source": [
    "num_digits = int(input(\"Enter the number of digits: \"))\n",
    "result = (521 - 528) / (48 * 48 + 5 * (math.pi))\n",
    "\n",
    "print(\"With {} decimal places, the result is {:.{}f}\".format(num_digits, result, num_digits))\n"
   ]
  },
  {
   "cell_type": "markdown",
   "metadata": {},
   "source": [
    "## 7\n",
    "Write a program that converts degrees Fahrenheit to Centigrade."
   ]
  },
  {
   "cell_type": "code",
   "execution_count": 14,
   "metadata": {},
   "outputs": [
    {
     "name": "stdout",
     "output_type": "stream",
     "text": [
      "37.00 F° is equivalent to 2.78 C°\n"
     ]
    }
   ],
   "source": [
    "temperature_f = eval(input(\"Enter temperature in Fahrenheit: \"))\n",
    "temperature_c = (temperature_f - 32) * (5/9)\n",
    "\n",
    "print(\"{:.2f} F° is equivalent to {:.2f} C°\".format(temperature_f, temperature_c))"
   ]
  },
  {
   "cell_type": "markdown",
   "metadata": {},
   "source": [
    "## 8\n",
    "Ask the user for a number and print (using the argument p)x−−−2x−−−30−−−4x−−−5x"
   ]
  },
  {
   "cell_type": "code",
   "execution_count": 16,
   "metadata": {},
   "outputs": [
    {
     "name": "stdout",
     "output_type": "stream",
     "text": [
      "2---4---6---8---10\n"
     ]
    }
   ],
   "source": [
    "x=eval(input(\"ingrese numero: \"))\n",
    "print(x,2*x,3*x,4*x,5*x, sep=\"---\")"
   ]
  },
  {
   "cell_type": "markdown",
   "metadata": {},
   "source": [
    "## 9\n",
    "Write a program that asks the user to enter three numbers. Create variables called total and average that contain the sum and average of the three numbers and print the total and average values."
   ]
  },
  {
   "cell_type": "code",
   "execution_count": 17,
   "metadata": {},
   "outputs": [
    {
     "name": "stdout",
     "output_type": "stream",
     "text": [
      "The sum of the numbers is 6 and their average is 2.00\n"
     ]
    }
   ],
   "source": [
    "num1 = eval(input(\"Enter number one: \"))\n",
    "num2 = eval(input(\"Enter number two: \"))\n",
    "num3 = eval(input(\"Enter number three: \"))\n",
    "\n",
    "total = num1 + num2 + num3\n",
    "average = total / 3\n",
    "\n",
    "print(\"The sum of the numbers is {} and their average is {:.2f}\".format(total, average))"
   ]
  },
  {
   "cell_type": "markdown",
   "metadata": {},
   "source": [
    "## 10\n",
    "sine function that receives degrees as imput and calculates the sine in radians"
   ]
  },
  {
   "cell_type": "code",
   "execution_count": 20,
   "metadata": {},
   "outputs": [
    {
     "data": {
      "text/plain": [
       "1.0"
      ]
     },
     "execution_count": 20,
     "metadata": {},
     "output_type": "execute_result"
    }
   ],
   "source": [
    "Sine_degrees_to_radians(90)"
   ]
  },
  {
   "cell_type": "markdown",
   "metadata": {},
   "source": [
    "## 11\n",
    "function that prints formatted string with certain information"
   ]
  },
  {
   "cell_type": "code",
   "execution_count": 24,
   "metadata": {},
   "outputs": [
    {
     "name": "stdout",
     "output_type": "stream",
     "text": [
      "cat loves dog, but not monkey, and dog loves monkey, but not cat\n"
     ]
    }
   ],
   "source": [
    "relationship_chain(\"cat\", \"dog\", \"monkey\")"
   ]
  },
  {
   "cell_type": "markdown",
   "metadata": {},
   "source": [
    "## 12\n",
    "Write a program that asks for the Ph level and if it is between 0−4 say it is a strong acid, 5−6 weak acid, 7 neutral, 8−9 weak base and 10−14 strong base."
   ]
  },
  {
   "cell_type": "code",
   "execution_count": 25,
   "metadata": {},
   "outputs": [
    {
     "name": "stdout",
     "output_type": "stream",
     "text": [
      "It is a strong acid.\n"
     ]
    }
   ],
   "source": [
    "ph = eval(input(\"Enter pH value: \"))\n",
    "\n",
    "if 0 <= ph <= 4:\n",
    "    print(\"It is a strong acid.\")\n",
    "elif 5 <= ph <= 6:\n",
    "    print(\"It is a weak acid.\")\n",
    "elif ph == 7:\n",
    "    print(\"It is a neutral substance.\")\n",
    "elif 8 <= ph <= 9:\n",
    "    print(\"It is a weak base.\")\n",
    "elif 10 <= ph <= 14:\n",
    "    print(\"It is a strong base.\")\n",
    "else:\n",
    "    print(\"pH is outside the allowed range.\")"
   ]
  },
  {
   "cell_type": "markdown",
   "metadata": {},
   "source": [
    "## 13\n",
    "Write a multiplication game program for children. The program must give the player ten randomly generated multiplication questions. After each one, the program should tell them if they did it right or wrong and what the correct answer is."
   ]
  },
  {
   "cell_type": "code",
   "execution_count": 26,
   "metadata": {},
   "outputs": [
    {
     "name": "stdout",
     "output_type": "stream",
     "text": [
      "Sorry, that's incorrect. The correct answer is 63. You have 0 correct answers out of 1.\n",
      "Correct! You have 1 correct answers out of 2.\n",
      "Correct! You have 2 correct answers out of 3.\n",
      "Sorry, that's incorrect. The correct answer is -12. You have 2 correct answers out of 4.\n",
      "Correct! You have 3 correct answers out of 5.\n"
     ]
    }
   ],
   "source": [
    "correct_answers = 0\n",
    "\n",
    "for i in range(5):\n",
    "    num1 = r.randint(-10, 10)\n",
    "    num2 = r.randint(-10, 10)\n",
    "    multiplication_result = num1 * num2\n",
    "    \n",
    "    user_answer = eval(input(f\"What is the result of {num1} multiplied by {num2}? \"))\n",
    "    \n",
    "    if user_answer == multiplication_result:\n",
    "        correct_answers += 1\n",
    "        print(f\"Correct! You have {correct_answers} correct answers out of {i + 1}.\")\n",
    "    else:\n",
    "        print(f\"Sorry, that's incorrect. The correct answer is {multiplication_result}. \"\n",
    "              f\"You have {correct_answers} correct answers out of {i + 1}.\")\n",
    "\n",
    "if correct_answers == 5:\n",
    "    print(\"Wow, you're really good at this!\")\n"
   ]
  },
  {
   "cell_type": "markdown",
   "metadata": {},
   "source": [
    "## 14\n",
    "Write a game that allows the user to play rock, paper, scissors, a certain number of rounds and at the end name the score."
   ]
  },
  {
   "cell_type": "code",
   "execution_count": 27,
   "metadata": {},
   "outputs": [
    {
     "name": "stdout",
     "output_type": "stream",
     "text": [
      "Rock: 0, Paper: 1, or Scissors: 2\n",
      "It's a draw!\n",
      "You win!\n",
      "It's a draw!\n",
      "You lose!\n",
      "You lose!\n",
      "Game over! You won 1 times, lost 2 times, and had 2 draws.\n"
     ]
    }
   ],
   "source": [
    "print(\"Rock: 0, Paper: 1, or Scissors: 2\")\n",
    "wins = 0\n",
    "draws = 0\n",
    "losses = 0\n",
    "\n",
    "for _ in range(5):\n",
    "    player_choice = eval(input(\"Choose rock (0), paper (1), or scissors (2): \"))\n",
    "    computer_choice = random.randint(0, 2)\n",
    "\n",
    "    if computer_choice == player_choice:\n",
    "        print(\"It's a draw!\")\n",
    "        draws += 1\n",
    "    elif (player_choice == 0 and computer_choice == 2) or \\\n",
    "         (player_choice == 1 and computer_choice == 0) or \\\n",
    "         (player_choice == 2 and computer_choice == 1):\n",
    "        print(\"You win!\")\n",
    "        wins += 1\n",
    "    else:\n",
    "        print(\"You lose!\")\n",
    "        losses += 1\n",
    "\n",
    "print(f\"Game over! You won {wins} times, lost {losses} times, and had {draws} draws.\")"
   ]
  },
  {
   "cell_type": "markdown",
   "metadata": {},
   "source": [
    "## 15\n",
    "Write a program that asks the user to enter a number and prints all divisors of that number"
   ]
  },
  {
   "cell_type": "code",
   "execution_count": 29,
   "metadata": {},
   "outputs": [
    {
     "name": "stdout",
     "output_type": "stream",
     "text": [
      "I will tell you the divisors of a number from one to the number you input.\n",
      "1 is a divisor of 36\n",
      "2 is a divisor of 36\n",
      "3 is a divisor of 36\n",
      "4 is a divisor of 36\n",
      "6 is a divisor of 36\n",
      "9 is a divisor of 36\n",
      "12 is a divisor of 36\n",
      "18 is a divisor of 36\n",
      "36 is a divisor of 36\n"
     ]
    }
   ],
   "source": [
    "print(\"I will tell you the divisors of a number from one to the number you input.\")\n",
    "number = eval(input(\"Enter the number: \"))\n",
    "\n",
    "for i in range(1, number + 1):\n",
    "    if number % i == 0:\n",
    "        print(f\"{i} is a divisor of {number}\")"
   ]
  },
  {
   "cell_type": "markdown",
   "metadata": {},
   "source": [
    "## 16\n",
    "Write a program that allows the user to convert a temperature from degrees Celsius, Fahrenheit, or Kelvin to the thermal scale of his choice."
   ]
  },
  {
   "cell_type": "code",
   "execution_count": 31,
   "metadata": {},
   "outputs": [
    {
     "name": "stdout",
     "output_type": "stream",
     "text": [
      "Convert from Celsius to Fahrenheit or Kelvin\n",
      "The result is: 273.15 K°\n"
     ]
    }
   ],
   "source": [
    "print(\"Convert from Celsius to Fahrenheit or Kelvin\")\n",
    "decision = input(\"Convert to Fahrenheit or Kelvin? \")\n",
    "\n",
    "if decision.lower() == \"fahrenheit\":\n",
    "    celsius = eval(input(\"Enter temperature in Celsius: \"))\n",
    "    result = (celsius * 9/5) + 32\n",
    "    print(\"The result is:\", result, \"F°\")\n",
    "elif decision.lower() == \"kelvin\":\n",
    "    celsius = eval(input(\"Enter temperature in Celsius: \"))\n",
    "    result = celsius + 273.15\n",
    "    print(\"The result is:\", result, \"K°\")\n",
    "else:\n",
    "    print(\"You have not chosen one of the appropriate parameters.\")"
   ]
  },
  {
   "cell_type": "markdown",
   "metadata": {},
   "source": [
    "## 17\n",
    "Play a game in which the user must guess a secret number (generated by the program) which\n",
    "\n",
    "1. Last 5 turns\n",
    "2. Tell you if the number to guess is greater or less than the one you said\n",
    "3. Tell user when they win or lose (Immediately)\n",
    "\n",
    "Perform the algorithm with for and while. Help: In one of the cases it is not necessary to use the break command"
   ]
  },
  {
   "cell_type": "code",
   "execution_count": 34,
   "metadata": {},
   "outputs": [
    {
     "name": "stdout",
     "output_type": "stream",
     "text": [
      "Incorrect guess. Attempts left: 4\n",
      "Incorrect guess. Attempts left: 3\n",
      "Congratulations! You guessed the correct number.\n",
      "End of the game.\n"
     ]
    }
   ],
   "source": [
    "target_number = random.randint(0, 5)\n",
    "attempts_left = 5\n",
    "\n",
    "for _ in range(5):\n",
    "    user_guess = eval(input(\"Enter a number: \"))\n",
    "    \n",
    "    if user_guess == target_number:\n",
    "        print(\"Congratulations! You guessed the correct number.\")\n",
    "        break\n",
    "    else:\n",
    "        attempts_left -= 1\n",
    "        print(\"Incorrect guess. Attempts left:\", attempts_left)\n",
    "\n",
    "if attempts_left == 0:\n",
    "    print(\"Maximum number of attempts reached.\")\n",
    "else:\n",
    "    print(\"End of the game.\")"
   ]
  },
  {
   "cell_type": "markdown",
   "metadata": {},
   "source": [
    "## 18\n",
    "Make a program that tells whether an entered number is prime or not. Use break"
   ]
  },
  {
   "cell_type": "code",
   "execution_count": 35,
   "metadata": {},
   "outputs": [
    {
     "name": "stdout",
     "output_type": "stream",
     "text": [
      "The number is prime.\n"
     ]
    }
   ],
   "source": [
    "number = eval(input(\"Enter a number: \"))\n",
    "divisors_count = 0\n",
    "\n",
    "for i in range(1, number + 1):\n",
    "    if number % i == 0:\n",
    "        divisors_count += 1\n",
    "        if divisors_count > 2:\n",
    "            break\n",
    "\n",
    "if divisors_count == 2:\n",
    "    print(\"The number is prime.\")\n",
    "else:\n",
    "    print(\"The number is not prime.\")\n"
   ]
  },
  {
   "cell_type": "markdown",
   "metadata": {},
   "source": [
    "## 19\n",
    "There is an ancient method to calculate (approximate) the square root of a given numberx. It starts with a guess and calculates a+xa2. This result is the first approximation, but the result can be refined even further by taking this result as an example and repeating the procedure as many times as possible. Make a program that calculates the square root of a given number and does so with the precision that the user desires. You cannot use the math library."
   ]
  },
  {
   "cell_type": "code",
   "execution_count": 41,
   "metadata": {},
   "outputs": [
    {
     "name": "stdout",
     "output_type": "stream",
     "text": [
      "The result is: 2.5\n"
     ]
    }
   ],
   "source": [
    "number = eval(input(\"Enter a number: \"))\n",
    "precision = eval(input(\"Enter precision: \"))\n",
    "\n",
    "if number >= 0:\n",
    "    guess = number\n",
    "    previous_guess = 0\n",
    "    iterations = 0\n",
    "\n",
    "    while iterations <= precision and previous_guess != guess:\n",
    "        previous_guess = guess\n",
    "        guess = (number / guess + guess) / 2\n",
    "        iterations += 1\n",
    "\n",
    "    print(\"The result is:\", guess)\n"
   ]
  },
  {
   "cell_type": "markdown",
   "metadata": {},
   "source": [
    "## 20\n",
    "write a program that asks the user for ten numbers and tells him which is the largest and smallest"
   ]
  },
  {
   "cell_type": "code",
   "execution_count": 44,
   "metadata": {},
   "outputs": [
    {
     "name": "stdout",
     "output_type": "stream",
     "text": [
      "The list of numbers is: [1, 2, 3, 4, 5, 6, 78, 9, 54, 14]\n",
      "The minimum value in the list is 1, and the maximum value is 78\n"
     ]
    }
   ],
   "source": [
    "numbers = []\n",
    "\n",
    "for i in range(10):\n",
    "    value = eval(input(\"Enter a number: \"))\n",
    "    numbers.append(value)\n",
    "\n",
    "print(\"The list of numbers is:\", numbers)\n",
    "\n",
    "minimum_value = min(numbers)\n",
    "maximum_value = max(numbers)\n",
    "\n",
    "print(\"The minimum value in the list is {0}, and the maximum value is {1}\".format(minimum_value, maximum_value))\n"
   ]
  }
 ],
 "metadata": {
  "kernelspec": {
   "display_name": "Python 3 (ipykernel)",
   "language": "python",
   "name": "python3"
  },
  "language_info": {
   "codemirror_mode": {
    "name": "ipython",
    "version": 3
   },
   "file_extension": ".py",
   "mimetype": "text/x-python",
   "name": "python",
   "nbconvert_exporter": "python",
   "pygments_lexer": "ipython3",
   "version": "3.11.3"
  }
 },
 "nbformat": 4,
 "nbformat_minor": 5
}
